{
  "nbformat": 4,
  "nbformat_minor": 0,
  "metadata": {
    "colab": {
      "name": "2022-03-29-theFirstPython.ipynb",
      "provenance": [],
      "collapsed_sections": []
    },
    "kernelspec": {
      "name": "python3",
      "display_name": "Python 3"
    },
    "language_info": {
      "name": "python"
    },
    "accelerator": "GPU"
  },
  "cells": [
    {
      "cell_type": "markdown",
      "source": [
        "# \"Python Review for Deep Learning\"\n",
        "> \"Comprehensive python review\"\n",
        "\n",
        "- toc:true\n",
        "- branch: master\n",
        "- badges: true\n",
        "- comments: true\n",
        "- author: omsace\n",
        "- categories: [python, deep learning, jupyter]"
      ],
      "metadata": {
        "id": "DI779AZVZbVs"
      }
    },
    {
      "cell_type": "markdown",
      "metadata": {
        "id": "Lb6SZUTtiNit"
      },
      "source": [
        "Colab 이용하여 파이썬에 대해 배워보자      \n",
        "괜찮아...."
      ]
    },
    {
      "cell_type": "code",
      "metadata": {
        "colab": {
          "base_uri": "https://localhost:8080/"
        },
        "id": "RpBb2edDiQ9J",
        "outputId": "6d6b6965-0ba7-4045-86ac-a4902a624514"
      },
      "source": [
        "2 + 3"
      ],
      "execution_count": null,
      "outputs": [
        {
          "output_type": "execute_result",
          "data": {
            "text/plain": [
              "5"
            ]
          },
          "metadata": {
            "tags": []
          },
          "execution_count": 1
        }
      ]
    },
    {
      "cell_type": "code",
      "metadata": {
        "colab": {
          "base_uri": "https://localhost:8080/"
        },
        "id": "qXRYTsMiiXK7",
        "outputId": "51604425-3a32-4e77-ba19-60eaee9a118c"
      },
      "source": [
        "print(\"hello world!\")"
      ],
      "execution_count": null,
      "outputs": [
        {
          "output_type": "stream",
          "text": [
            "hello world!\n"
          ],
          "name": "stdout"
        }
      ]
    },
    {
      "cell_type": "code",
      "metadata": {
        "colab": {
          "base_uri": "https://localhost:8080/"
        },
        "id": "tGnzi4g5iZPr",
        "outputId": "f7cc1602-fd27-4785-868c-cd89b5186b41"
      },
      "source": [
        "!python --version"
      ],
      "execution_count": null,
      "outputs": [
        {
          "output_type": "stream",
          "text": [
            "Python 3.7.10\n"
          ],
          "name": "stdout"
        }
      ]
    },
    {
      "cell_type": "markdown",
      "metadata": {
        "id": "0-lVi0SPitkD"
      },
      "source": [
        "## **변수와 자료형에 대하여**"
      ]
    },
    {
      "cell_type": "markdown",
      "metadata": {
        "id": "9S-VfGzHi2zE"
      },
      "source": [
        "변수 :  자료를 저장하는 이시 저장소     \n",
        "숫자 또는 문자를 저장"
      ]
    },
    {
      "cell_type": "markdown",
      "metadata": {
        "id": "gJ8Cat_injFt"
      },
      "source": [
        "**변수(Variables)**"
      ]
    },
    {
      "cell_type": "markdown",
      "metadata": {
        "id": "VXgVpxC3k_nS"
      },
      "source": [
        "1.  변수의 선언     \n",
        "2.  변수의 초기화     \n",
        "3.  변수  값 할당     \n",
        "의 순서로 진행한다.."
      ]
    },
    {
      "cell_type": "code",
      "metadata": {
        "id": "wpuFDUDFi6Iv"
      },
      "source": [
        "score = 0 # 변수의 초기화"
      ],
      "execution_count": null,
      "outputs": []
    },
    {
      "cell_type": "code",
      "metadata": {
        "colab": {
          "base_uri": "https://localhost:8080/"
        },
        "id": "DDvzfQS2loJ0",
        "outputId": "8dd70a38-24f3-451d-8f68-987fc7943bac"
      },
      "source": [
        "print(score)  "
      ],
      "execution_count": null,
      "outputs": [
        {
          "output_type": "stream",
          "text": [
            "0\n"
          ],
          "name": "stdout"
        }
      ]
    },
    {
      "cell_type": "code",
      "metadata": {
        "id": "7gDVO3AGloHy"
      },
      "source": [
        "score = 10 # 변수값 할당"
      ],
      "execution_count": null,
      "outputs": []
    },
    {
      "cell_type": "code",
      "metadata": {
        "colab": {
          "base_uri": "https://localhost:8080/"
        },
        "id": "cAu8v5HmloFT",
        "outputId": "a133fcb9-4483-4c94-a8ac-3dbb9807aea9"
      },
      "source": [
        "print(score)"
      ],
      "execution_count": null,
      "outputs": [
        {
          "output_type": "stream",
          "text": [
            "10\n"
          ],
          "name": "stdout"
        }
      ]
    },
    {
      "cell_type": "code",
      "metadata": {
        "id": "lfhY0_rBloC7"
      },
      "source": [
        "level = 1\n"
      ],
      "execution_count": null,
      "outputs": []
    },
    {
      "cell_type": "markdown",
      "metadata": {
        "id": "6vzwazVqnqi-"
      },
      "source": [
        "Data type"
      ]
    },
    {
      "cell_type": "code",
      "metadata": {
        "id": "i7EUYpBDlns1"
      },
      "source": [
        "sound = True"
      ],
      "execution_count": null,
      "outputs": []
    },
    {
      "cell_type": "code",
      "metadata": {
        "colab": {
          "base_uri": "https://localhost:8080/"
        },
        "id": "H8sgyMLun2dY",
        "outputId": "7b5f2547-3f69-4a4a-946d-025ac0c13861"
      },
      "source": [
        "type(sound)"
      ],
      "execution_count": null,
      "outputs": [
        {
          "output_type": "execute_result",
          "data": {
            "text/plain": [
              "bool"
            ]
          },
          "metadata": {
            "tags": []
          },
          "execution_count": 9
        }
      ]
    },
    {
      "cell_type": "code",
      "metadata": {
        "id": "dRqM88wFn7bV"
      },
      "source": [
        ""
      ],
      "execution_count": null,
      "outputs": []
    }
  ]
}